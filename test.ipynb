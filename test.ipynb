{
 "cells": [
  {
   "cell_type": "markdown",
   "metadata": {},
   "source": [
    "# Test Technique Profil IA"
   ]
  },
  {
   "cell_type": "markdown",
   "metadata": {},
   "source": [
    "## Sujet 2 "
   ]
  },
  {
   "cell_type": "markdown",
   "metadata": {},
   "source": [
    "### Nada Bel Hadj Slimen "
   ]
  },
  {
   "cell_type": "code",
   "execution_count": 48,
   "metadata": {},
   "outputs": [],
   "source": [
    "from datetime import datetime #importation de la bibliotèque datetime\n"
   ]
  },
  {
   "cell_type": "code",
   "execution_count": 57,
   "metadata": {},
   "outputs": [],
   "source": [
    "def log_content(function):\n",
    "    def new_function(a, b,c): \n",
    "        resultat = function(a, b,c) \n",
    "        \n",
    "        print('[',datetime.now(),'][file:test.py]DEBUG [@example] variable a =',b+c)\n",
    "        print('[',datetime.now(),'][file:test.py]DEBUG [@example] variable b =',a+c)\n",
    "        print('[',datetime.now(),'][file:test.py]DEBUG [@example] variable c =',a+b)\n",
    "        d = \"hi there\"\n",
    "        print('[',datetime.now(),'][file:test.py]DEBUG [@example] variable d =',d)\n",
    "       \n",
    "        return print('[',datetime.now(),'][file:test.py]DEBUG [@example] variable result =',resultat)\n",
    "\n",
    "\n",
    "    return new_function "
   ]
  },
  {
   "cell_type": "code",
   "execution_count": 62,
   "metadata": {},
   "outputs": [],
   "source": [
    "@log_content\n",
    "def addition(a, b,c):\n",
    "    a=b+c\n",
    "    b=a+c\n",
    "    c=a+b\n",
    "  \n",
    "    result = a + b + c\n",
    "    return result"
   ]
  },
  {
   "cell_type": "code",
   "execution_count": 63,
   "metadata": {},
   "outputs": [
    {
     "name": "stdout",
     "output_type": "stream",
     "text": [
      "[ 2021-01-03 17:47:04.178569 ][file:test.py]DEBUG [@example] variable a = 7\n",
      "[ 2021-01-03 17:47:04.178569 ][file:test.py]DEBUG [@example] variable b = 6\n",
      "[ 2021-01-03 17:47:04.178569 ][file:test.py]DEBUG [@example] variable c = 5\n",
      "[ 2021-01-03 17:47:04.179567 ][file:test.py]DEBUG [@example] variable d = hi there\n",
      "[ 2021-01-03 17:47:04.179567 ][file:test.py]DEBUG [@example] variable result = 36\n"
     ]
    }
   ],
   "source": [
    "addition(2,3,4)"
   ]
  },
  {
   "cell_type": "code",
   "execution_count": null,
   "metadata": {},
   "outputs": [],
   "source": []
  },
  {
   "cell_type": "code",
   "execution_count": null,
   "metadata": {},
   "outputs": [],
   "source": []
  },
  {
   "cell_type": "code",
   "execution_count": null,
   "metadata": {},
   "outputs": [],
   "source": []
  },
  {
   "cell_type": "code",
   "execution_count": null,
   "metadata": {},
   "outputs": [],
   "source": []
  }
 ],
 "metadata": {
  "kernelspec": {
   "display_name": "Python 3",
   "language": "python",
   "name": "python3"
  },
  "language_info": {
   "codemirror_mode": {
    "name": "ipython",
    "version": 3
   },
   "file_extension": ".py",
   "mimetype": "text/x-python",
   "name": "python",
   "nbconvert_exporter": "python",
   "pygments_lexer": "ipython3",
   "version": "3.7.6"
  }
 },
 "nbformat": 4,
 "nbformat_minor": 4
}
